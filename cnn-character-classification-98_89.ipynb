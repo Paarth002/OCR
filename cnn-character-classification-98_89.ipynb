{
 "cells": [
  {
   "attachments": {},
   "cell_type": "markdown",
   "id": "00ac090c",
   "metadata": {},
   "source": [
    "# Training CNN model"
   ]
  },
  {
   "cell_type": "code",
   "execution_count": 1,
   "id": "c993b388",
   "metadata": {
    "_cell_guid": "79c7e3d0-c299-4dcb-8224-4455121ee9b0",
    "_uuid": "d629ff2d2480ee46fbb7e2d37f6b5fab8052498a",
    "execution": {
     "iopub.execute_input": "2023-04-04T21:38:26.885983Z",
     "iopub.status.busy": "2023-04-04T21:38:26.885385Z",
     "iopub.status.idle": "2023-04-04T21:38:46.571350Z",
     "shell.execute_reply": "2023-04-04T21:38:46.570241Z"
    },
    "id": "wwZj-g6EiwlY",
    "papermill": {
     "duration": 19.69758,
     "end_time": "2023-04-04T21:38:46.574427",
     "exception": false,
     "start_time": "2023-04-04T21:38:26.876847",
     "status": "completed"
    },
    "tags": []
   },
   "outputs": [
    {
     "name": "stdout",
     "output_type": "stream",
     "text": [
      "Collecting imutils\r\n",
      "  Downloading imutils-0.5.4.tar.gz (17 kB)\r\n",
      "  Preparing metadata (setup.py) ... \u001b[?25l-\b \bdone\r\n",
      "\u001b[?25hBuilding wheels for collected packages: imutils\r\n",
      "  Building wheel for imutils (setup.py) ... \u001b[?25l-\b \b\\\b \bdone\r\n",
      "\u001b[?25h  Created wheel for imutils: filename=imutils-0.5.4-py3-none-any.whl size=25861 sha256=666136aef2583cdeb939b646279e3a60264c0f9abe777f7dc983da1c0bcac4b1\r\n",
      "  Stored in directory: /root/.cache/pip/wheels/35/e4/69/cb99d996d14a2971b79b990d68b05a17d58ce530ff96090dfc\r\n",
      "Successfully built imutils\r\n",
      "Installing collected packages: imutils\r\n",
      "Successfully installed imutils-0.5.4\r\n",
      "\u001b[33mWARNING: Running pip as the 'root' user can result in broken permissions and conflicting behaviour with the system package manager. It is recommended to use a virtual environment instead: https://pip.pypa.io/warnings/venv\u001b[0m\u001b[33m\r\n",
      "\u001b[0m"
     ]
    }
   ],
   "source": [
    "#Importing the libraries\n",
    "\n",
    "import numpy as np\n",
    "import pandas as pd\n",
    "from keras.preprocessing.image import ImageDataGenerator\n",
    "import os\n",
    "import random \n",
    "import cv2\n",
    "!pip install imutils\n",
    "import imutils\n",
    "import random\n",
    "import matplotlib.pyplot as plt\n",
    "import seaborn as sns\n",
    "from sklearn.preprocessing import LabelBinarizer\n",
    "from keras.utils import np_utils\n",
    "from keras.models import Sequential\n",
    "from keras import optimizers\n",
    "from sklearn.preprocessing import LabelBinarizer\n",
    "from keras import backend as K\n",
    "from keras.layers import Dense, Activation, Flatten, Dense,MaxPooling2D, Dropout\n",
    "from keras.layers import Conv2D, MaxPooling2D, BatchNormalization\n",
    "from keras.callbacks import ReduceLROnPlateau\n",
    "from sklearn.metrics import classification_report,confusion_matrix"
   ]
  },
  {
   "cell_type": "code",
   "execution_count": 2,
   "id": "74e5727e",
   "metadata": {
    "execution": {
     "iopub.execute_input": "2023-04-04T21:38:46.589126Z",
     "iopub.status.busy": "2023-04-04T21:38:46.587790Z",
     "iopub.status.idle": "2023-04-04T21:40:00.730641Z",
     "shell.execute_reply": "2023-04-04T21:40:00.729584Z"
    },
    "id": "9owDP7LAiwlZ",
    "papermill": {
     "duration": 74.152671,
     "end_time": "2023-04-04T21:40:00.733366",
     "exception": false,
     "start_time": "2023-04-04T21:38:46.580695",
     "status": "completed"
    },
    "tags": []
   },
   "outputs": [],
   "source": [
    "#Loading training and validation data\n",
    "dir = \"/kaggle/input/standard-ocr-dataset/data/training_data\"\n",
    "train_data = []\n",
    "val_data = []\n",
    "img_size = 32\n",
    "\n",
    "for i in os.listdir(dir):\n",
    "    sub_directory = os.path.join(dir,i)\n",
    "    cnt = 0\n",
    "    for j in os.listdir(sub_directory):\n",
    "        img = cv2.imread(os.path.join(sub_directory,j),0)\n",
    "        img = cv2.resize(img,(img_size,img_size))\n",
    "        if cnt < 516:                    #split data into train and validation\n",
    "            train_data.append([img,i])\n",
    "        else:\n",
    "            val_data.append([img,i])\n",
    "        cnt += 1"
   ]
  },
  {
   "cell_type": "code",
   "execution_count": 3,
   "id": "37ade672",
   "metadata": {
    "execution": {
     "iopub.execute_input": "2023-04-04T21:40:00.747272Z",
     "iopub.status.busy": "2023-04-04T21:40:00.746975Z",
     "iopub.status.idle": "2023-04-04T21:40:00.752258Z",
     "shell.execute_reply": "2023-04-04T21:40:00.751175Z"
    },
    "id": "gSh1-R5Eiwlb",
    "outputId": "77b6a777-98b3-4794-b819-ed4094c30198",
    "papermill": {
     "duration": 0.016001,
     "end_time": "2023-04-04T21:40:00.755946",
     "exception": false,
     "start_time": "2023-04-04T21:40:00.739945",
     "status": "completed"
    },
    "tags": []
   },
   "outputs": [
    {
     "name": "stdout",
     "output_type": "stream",
     "text": [
      "18576 2052\n"
     ]
    }
   ],
   "source": [
    "print(len(train_data), len(val_data))  #Get size of training and validation data"
   ]
  },
  {
   "cell_type": "code",
   "execution_count": 4,
   "id": "6f4420eb",
   "metadata": {
    "execution": {
     "iopub.execute_input": "2023-04-04T21:40:00.780261Z",
     "iopub.status.busy": "2023-04-04T21:40:00.780002Z",
     "iopub.status.idle": "2023-04-04T21:40:04.625534Z",
     "shell.execute_reply": "2023-04-04T21:40:04.624456Z"
    },
    "id": "1tZMl8Kaiwlb",
    "papermill": {
     "duration": 3.855182,
     "end_time": "2023-04-04T21:40:04.628339",
     "exception": false,
     "start_time": "2023-04-04T21:40:00.773157",
     "status": "completed"
    },
    "tags": []
   },
   "outputs": [],
   "source": [
    "#Loading test data\n",
    "test_dir = \"/kaggle/input/standard-ocr-dataset/data/testing_data\"\n",
    "test_data = []\n",
    "img_size = 32\n",
    "for i in os.listdir(test_dir):\n",
    "    sub_directory = os.path.join(test_dir,i)\n",
    "    for j in os.listdir(sub_directory):\n",
    "        img = cv2.imread(os.path.join(sub_directory,j),0)\n",
    "        img = cv2.resize(img,(img_size,img_size))\n",
    "        test_data.append([img,i])"
   ]
  },
  {
   "cell_type": "code",
   "execution_count": 5,
   "id": "7c02e0d5",
   "metadata": {
    "execution": {
     "iopub.execute_input": "2023-04-04T21:40:04.641973Z",
     "iopub.status.busy": "2023-04-04T21:40:04.641649Z",
     "iopub.status.idle": "2023-04-04T21:40:04.648700Z",
     "shell.execute_reply": "2023-04-04T21:40:04.647699Z"
    },
    "id": "s9lSY47Siwlc",
    "outputId": "dd025f5a-3325-48cc-c0dc-4e3a76b2b787",
    "papermill": {
     "duration": 0.016152,
     "end_time": "2023-04-04T21:40:04.650861",
     "exception": false,
     "start_time": "2023-04-04T21:40:04.634709",
     "status": "completed"
    },
    "tags": []
   },
   "outputs": [
    {
     "data": {
      "text/plain": [
       "1008"
      ]
     },
     "execution_count": 5,
     "metadata": {},
     "output_type": "execute_result"
    }
   ],
   "source": [
    "len(test_data)  #Get size of test data"
   ]
  },
  {
   "cell_type": "code",
   "execution_count": 6,
   "id": "26ee2e6f",
   "metadata": {
    "execution": {
     "iopub.execute_input": "2023-04-04T21:40:04.664291Z",
     "iopub.status.busy": "2023-04-04T21:40:04.663497Z",
     "iopub.status.idle": "2023-04-04T21:40:04.684468Z",
     "shell.execute_reply": "2023-04-04T21:40:04.683438Z"
    },
    "id": "GfHas1DYiwld",
    "papermill": {
     "duration": 0.029862,
     "end_time": "2023-04-04T21:40:04.686572",
     "exception": false,
     "start_time": "2023-04-04T21:40:04.656710",
     "status": "completed"
    },
    "tags": []
   },
   "outputs": [],
   "source": [
    "#Shuffling the data\n",
    "random.shuffle(train_data)\n",
    "random.shuffle(val_data)"
   ]
  },
  {
   "cell_type": "code",
   "execution_count": 7,
   "id": "6240238f",
   "metadata": {
    "execution": {
     "iopub.execute_input": "2023-04-04T21:40:04.699778Z",
     "iopub.status.busy": "2023-04-04T21:40:04.699518Z",
     "iopub.status.idle": "2023-04-04T21:40:04.712648Z",
     "shell.execute_reply": "2023-04-04T21:40:04.711720Z"
    },
    "id": "7KkAqzMCiwle",
    "papermill": {
     "duration": 0.022177,
     "end_time": "2023-04-04T21:40:04.714727",
     "exception": false,
     "start_time": "2023-04-04T21:40:04.692550",
     "status": "completed"
    },
    "tags": []
   },
   "outputs": [],
   "source": [
    "#Splitting the training data into features and labels\n",
    "train_X = []\n",
    "train_Y = []\n",
    "for features,label in train_data:\n",
    "    train_X.append(features)\n",
    "    train_Y.append(label)"
   ]
  },
  {
   "cell_type": "code",
   "execution_count": 8,
   "id": "a42f9075",
   "metadata": {
    "execution": {
     "iopub.execute_input": "2023-04-04T21:40:04.727573Z",
     "iopub.status.busy": "2023-04-04T21:40:04.727301Z",
     "iopub.status.idle": "2023-04-04T21:40:04.732649Z",
     "shell.execute_reply": "2023-04-04T21:40:04.731650Z"
    },
    "id": "uNmwgwTniwle",
    "papermill": {
     "duration": 0.014197,
     "end_time": "2023-04-04T21:40:04.734745",
     "exception": false,
     "start_time": "2023-04-04T21:40:04.720548",
     "status": "completed"
    },
    "tags": []
   },
   "outputs": [],
   "source": [
    "#Splitting the validation data into features and labels\n",
    "val_X = []\n",
    "val_Y = []\n",
    "for features,label in val_data:\n",
    "    val_X.append(features)\n",
    "    val_Y.append(label)"
   ]
  },
  {
   "cell_type": "code",
   "execution_count": 9,
   "id": "d58677bd",
   "metadata": {
    "execution": {
     "iopub.execute_input": "2023-04-04T21:40:04.748202Z",
     "iopub.status.busy": "2023-04-04T21:40:04.747932Z",
     "iopub.status.idle": "2023-04-04T21:40:04.753002Z",
     "shell.execute_reply": "2023-04-04T21:40:04.751928Z"
    },
    "papermill": {
     "duration": 0.014926,
     "end_time": "2023-04-04T21:40:04.755537",
     "exception": false,
     "start_time": "2023-04-04T21:40:04.740611",
     "status": "completed"
    },
    "tags": []
   },
   "outputs": [],
   "source": [
    "#Splitting the test data into features and labels\n",
    "test_X = []\n",
    "test_Y = []\n",
    "for features,label in test_data:\n",
    "    test_X.append(features)\n",
    "    test_Y.append(label)"
   ]
  },
  {
   "cell_type": "code",
   "execution_count": 10,
   "id": "5d6eb0ec",
   "metadata": {
    "execution": {
     "iopub.execute_input": "2023-04-04T21:40:04.769134Z",
     "iopub.status.busy": "2023-04-04T21:40:04.768841Z",
     "iopub.status.idle": "2023-04-04T21:40:04.820410Z",
     "shell.execute_reply": "2023-04-04T21:40:04.819500Z"
    },
    "id": "6y20jlPLiwlf",
    "papermill": {
     "duration": 0.060503,
     "end_time": "2023-04-04T21:40:04.822522",
     "exception": false,
     "start_time": "2023-04-04T21:40:04.762019",
     "status": "completed"
    },
    "tags": []
   },
   "outputs": [],
   "source": [
    "#Using LabelBinarizer to convert labels into one-hot encoded vectors\n",
    "LB = LabelBinarizer()\n",
    "train_Y = LB.fit_transform(train_Y)\n",
    "val_Y = LB.fit_transform(val_Y)\n",
    "test_Y = LB.fit_transform(test_Y)"
   ]
  },
  {
   "cell_type": "code",
   "execution_count": 11,
   "id": "c445cb8d",
   "metadata": {
    "execution": {
     "iopub.execute_input": "2023-04-04T21:40:04.835775Z",
     "iopub.status.busy": "2023-04-04T21:40:04.835510Z",
     "iopub.status.idle": "2023-04-04T21:40:04.915173Z",
     "shell.execute_reply": "2023-04-04T21:40:04.914081Z"
    },
    "id": "Z8MqsMBiiwlg",
    "papermill": {
     "duration": 0.089377,
     "end_time": "2023-04-04T21:40:04.917991",
     "exception": false,
     "start_time": "2023-04-04T21:40:04.828614",
     "status": "completed"
    },
    "tags": []
   },
   "outputs": [],
   "source": [
    "#Reshaping the train data\n",
    "train_X = np.array(train_X)/255.0\n",
    "train_X = train_X.reshape(-1,32,32,1)\n",
    "train_Y = np.array(train_Y)"
   ]
  },
  {
   "cell_type": "code",
   "execution_count": 12,
   "id": "e2cdd2f6",
   "metadata": {
    "execution": {
     "iopub.execute_input": "2023-04-04T21:40:04.933253Z",
     "iopub.status.busy": "2023-04-04T21:40:04.932229Z",
     "iopub.status.idle": "2023-04-04T21:40:04.947450Z",
     "shell.execute_reply": "2023-04-04T21:40:04.946497Z"
    },
    "id": "yAMfR3DKiwlh",
    "papermill": {
     "duration": 0.025406,
     "end_time": "2023-04-04T21:40:04.950190",
     "exception": false,
     "start_time": "2023-04-04T21:40:04.924784",
     "status": "completed"
    },
    "tags": []
   },
   "outputs": [],
   "source": [
    "#Reshaping the validation data\n",
    "val_X = np.array(val_X)/255.0\n",
    "val_X = val_X.reshape(-1,32,32,1)\n",
    "val_Y = np.array(val_Y)"
   ]
  },
  {
   "cell_type": "code",
   "execution_count": 13,
   "id": "00cb2226",
   "metadata": {
    "execution": {
     "iopub.execute_input": "2023-04-04T21:40:04.963472Z",
     "iopub.status.busy": "2023-04-04T21:40:04.963179Z",
     "iopub.status.idle": "2023-04-04T21:40:04.973601Z",
     "shell.execute_reply": "2023-04-04T21:40:04.972671Z"
    },
    "papermill": {
     "duration": 0.019472,
     "end_time": "2023-04-04T21:40:04.975777",
     "exception": false,
     "start_time": "2023-04-04T21:40:04.956305",
     "status": "completed"
    },
    "tags": []
   },
   "outputs": [],
   "source": [
    "#Reshaping the test data\n",
    "test_X = np.array(test_X)/255.0\n",
    "test_X = test_X.reshape(-1,32,32,1)\n",
    "test_Y = np.array(test_Y)"
   ]
  },
  {
   "cell_type": "code",
   "execution_count": 14,
   "id": "75534357",
   "metadata": {
    "execution": {
     "iopub.execute_input": "2023-04-04T21:40:04.989027Z",
     "iopub.status.busy": "2023-04-04T21:40:04.988723Z",
     "iopub.status.idle": "2023-04-04T21:40:04.995571Z",
     "shell.execute_reply": "2023-04-04T21:40:04.994540Z"
    },
    "id": "kIHbNHv9iwlh",
    "outputId": "bf951a2c-3d21-494d-a62a-4de359ef1d8c",
    "papermill": {
     "duration": 0.016109,
     "end_time": "2023-04-04T21:40:04.997857",
     "exception": false,
     "start_time": "2023-04-04T21:40:04.981748",
     "status": "completed"
    },
    "tags": []
   },
   "outputs": [
    {
     "name": "stdout",
     "output_type": "stream",
     "text": [
      "(18576, 32, 32, 1) (2052, 32, 32, 1) (1008, 32, 32, 1)\n"
     ]
    }
   ],
   "source": [
    "print(train_X.shape,val_X.shape, test_X.shape)  #Get shape of train, validation and test data"
   ]
  },
  {
   "cell_type": "code",
   "execution_count": 15,
   "id": "5b3c3f46",
   "metadata": {
    "execution": {
     "iopub.execute_input": "2023-04-04T21:40:05.011847Z",
     "iopub.status.busy": "2023-04-04T21:40:05.010947Z",
     "iopub.status.idle": "2023-04-04T21:40:05.017770Z",
     "shell.execute_reply": "2023-04-04T21:40:05.016809Z"
    },
    "id": "Mj_Bz3-9iwli",
    "outputId": "e5240a18-593c-4c4a-c97b-8d5eea04d576",
    "papermill": {
     "duration": 0.016015,
     "end_time": "2023-04-04T21:40:05.019944",
     "exception": false,
     "start_time": "2023-04-04T21:40:05.003929",
     "status": "completed"
    },
    "tags": []
   },
   "outputs": [
    {
     "name": "stdout",
     "output_type": "stream",
     "text": [
      "(18576, 36) (2052, 36) (1008, 36)\n"
     ]
    }
   ],
   "source": [
    "print(train_Y.shape,val_Y.shape, test_Y.shape) #Get shape of train, validation and test labels"
   ]
  },
  {
   "cell_type": "code",
   "execution_count": 16,
   "id": "2258cc97",
   "metadata": {
    "execution": {
     "iopub.execute_input": "2023-04-04T21:40:05.033420Z",
     "iopub.status.busy": "2023-04-04T21:40:05.033155Z",
     "iopub.status.idle": "2023-04-04T21:40:07.735178Z",
     "shell.execute_reply": "2023-04-04T21:40:07.734178Z"
    },
    "id": "Wt-2NWjRiwli",
    "papermill": {
     "duration": 2.711792,
     "end_time": "2023-04-04T21:40:07.737820",
     "exception": false,
     "start_time": "2023-04-04T21:40:05.026028",
     "status": "completed"
    },
    "tags": []
   },
   "outputs": [],
   "source": [
    "#Create CNN Model using Keras\n",
    "\n",
    "model = Sequential()                                                                      #Initialising the model\n",
    "\n",
    "model.add(Conv2D(32, (3, 3), padding = \"same\", activation='relu', input_shape=(32,32,1))) #Adding first convolutional layer\n",
    "model.add(MaxPooling2D(pool_size=(2,2)))                                                  #Adding first MaxPooling layer\n",
    "\n",
    "model.add(Conv2D(64, (3, 3), activation='relu'))                                          #Adding second convolutional layer\n",
    "model.add(MaxPooling2D(pool_size=(2,2)))                                                  #Adding second MaxPooling layer\n",
    "\n",
    "model.add(Conv2D(128, (3, 3), activation='relu'))                                         #Adding third convolutional layer\n",
    "model.add(MaxPooling2D(pool_size=(2,2)))                                                  #Adding third MaxPooling layer\n",
    "\n",
    "model.add(Dropout(0.25))                                                                  #Adding Dropout layer\n",
    " \n",
    "model.add(Flatten())                                                                      #Adding Flatten layer\n",
    "\n",
    "model.add(Dense(128, activation='relu'))                                                  #Adding first Dense layer\n",
    "\n",
    "model.add(Dropout(0.2))                                                                   #Adding Dropout layer\n",
    "model.add(Dense(36, activation='softmax'))                                                #Adding final layer with softmax activation function and 36 classes"
   ]
  },
  {
   "cell_type": "code",
   "execution_count": 17,
   "id": "d3457394",
   "metadata": {
    "execution": {
     "iopub.execute_input": "2023-04-04T21:40:07.751928Z",
     "iopub.status.busy": "2023-04-04T21:40:07.751608Z",
     "iopub.status.idle": "2023-04-04T21:40:07.788315Z",
     "shell.execute_reply": "2023-04-04T21:40:07.787368Z"
    },
    "id": "xElkn3f5iwlj",
    "outputId": "05c960d0-12b6-43f3-a511-82e516ac5025",
    "papermill": {
     "duration": 0.067101,
     "end_time": "2023-04-04T21:40:07.811392",
     "exception": false,
     "start_time": "2023-04-04T21:40:07.744291",
     "status": "completed"
    },
    "tags": []
   },
   "outputs": [
    {
     "name": "stdout",
     "output_type": "stream",
     "text": [
      "Model: \"sequential\"\n",
      "_________________________________________________________________\n",
      " Layer (type)                Output Shape              Param #   \n",
      "=================================================================\n",
      " conv2d (Conv2D)             (None, 32, 32, 32)        320       \n",
      "                                                                 \n",
      " max_pooling2d (MaxPooling2D  (None, 16, 16, 32)       0         \n",
      " )                                                               \n",
      "                                                                 \n",
      " conv2d_1 (Conv2D)           (None, 14, 14, 64)        18496     \n",
      "                                                                 \n",
      " max_pooling2d_1 (MaxPooling  (None, 7, 7, 64)         0         \n",
      " 2D)                                                             \n",
      "                                                                 \n",
      " conv2d_2 (Conv2D)           (None, 5, 5, 128)         73856     \n",
      "                                                                 \n",
      " max_pooling2d_2 (MaxPooling  (None, 2, 2, 128)        0         \n",
      " 2D)                                                             \n",
      "                                                                 \n",
      " dropout (Dropout)           (None, 2, 2, 128)         0         \n",
      "                                                                 \n",
      " flatten (Flatten)           (None, 512)               0         \n",
      "                                                                 \n",
      " dense (Dense)               (None, 128)               65664     \n",
      "                                                                 \n",
      " dropout_1 (Dropout)         (None, 128)               0         \n",
      "                                                                 \n",
      " dense_1 (Dense)             (None, 36)                4644      \n",
      "                                                                 \n",
      "=================================================================\n",
      "Total params: 162,980\n",
      "Trainable params: 162,980\n",
      "Non-trainable params: 0\n",
      "_________________________________________________________________\n"
     ]
    }
   ],
   "source": [
    "model.summary() #Get summary of the model"
   ]
  },
  {
   "cell_type": "code",
   "execution_count": 18,
   "id": "f1eb6798",
   "metadata": {
    "execution": {
     "iopub.execute_input": "2023-04-04T21:40:07.829323Z",
     "iopub.status.busy": "2023-04-04T21:40:07.829043Z",
     "iopub.status.idle": "2023-04-04T21:40:07.844795Z",
     "shell.execute_reply": "2023-04-04T21:40:07.843888Z"
    },
    "id": "piV-UY5Eiwlk",
    "papermill": {
     "duration": 0.027063,
     "end_time": "2023-04-04T21:40:07.846801",
     "exception": false,
     "start_time": "2023-04-04T21:40:07.819738",
     "status": "completed"
    },
    "tags": []
   },
   "outputs": [],
   "source": [
    "#Compiling the model\n",
    "model.compile(loss='categorical_crossentropy', optimizer=\"adam\",metrics=['accuracy']) "
   ]
  },
  {
   "cell_type": "code",
   "execution_count": 19,
   "id": "e1eac881",
   "metadata": {
    "execution": {
     "iopub.execute_input": "2023-04-04T21:40:07.863984Z",
     "iopub.status.busy": "2023-04-04T21:40:07.863627Z",
     "iopub.status.idle": "2023-04-04T21:40:07.869424Z",
     "shell.execute_reply": "2023-04-04T21:40:07.868443Z"
    },
    "papermill": {
     "duration": 0.01664,
     "end_time": "2023-04-04T21:40:07.871598",
     "exception": false,
     "start_time": "2023-04-04T21:40:07.854958",
     "status": "completed"
    },
    "tags": []
   },
   "outputs": [],
   "source": [
    "#Learning rate reduction\n",
    "learning_rate_reduction = ReduceLROnPlateau(monitor='val_accuracy', patience = 2, verbose=1,factor=0.3, min_lr=0.000001)"
   ]
  },
  {
   "cell_type": "code",
   "execution_count": 20,
   "id": "890fa08c",
   "metadata": {
    "execution": {
     "iopub.execute_input": "2023-04-04T21:40:07.889302Z",
     "iopub.status.busy": "2023-04-04T21:40:07.888290Z",
     "iopub.status.idle": "2023-04-04T21:43:31.074102Z",
     "shell.execute_reply": "2023-04-04T21:43:31.072695Z"
    },
    "id": "AQiIL1Fxiwlk",
    "outputId": "6470e059-5186-4a85-a5a9-4774598470d6",
    "papermill": {
     "duration": 203.197441,
     "end_time": "2023-04-04T21:43:31.076859",
     "exception": false,
     "start_time": "2023-04-04T21:40:07.879418",
     "status": "completed"
    },
    "tags": []
   },
   "outputs": [
    {
     "name": "stdout",
     "output_type": "stream",
     "text": [
      "Epoch 1/50\n"
     ]
    },
    {
     "name": "stderr",
     "output_type": "stream",
     "text": [
      "2023-04-04 21:40:09.061890: E tensorflow/core/grappler/optimizers/meta_optimizer.cc:954] layout failed: INVALID_ARGUMENT: Size of values 0 does not match size of permutation 4 @ fanin shape insequential/dropout/dropout/SelectV2-2-TransposeNHWCToNCHW-LayoutOptimizer\n"
     ]
    },
    {
     "name": "stdout",
     "output_type": "stream",
     "text": [
      "581/581 [==============================] - 11s 5ms/step - loss: 1.1550 - accuracy: 0.6750 - val_loss: 0.3888 - val_accuracy: 0.8835 - lr: 0.0010\n",
      "Epoch 2/50\n",
      "581/581 [==============================] - 3s 5ms/step - loss: 0.3864 - accuracy: 0.8836 - val_loss: 0.2846 - val_accuracy: 0.9133 - lr: 0.0010\n",
      "Epoch 3/50\n",
      "581/581 [==============================] - 3s 5ms/step - loss: 0.2788 - accuracy: 0.9127 - val_loss: 0.2338 - val_accuracy: 0.9298 - lr: 0.0010\n",
      "Epoch 4/50\n",
      "581/581 [==============================] - 3s 5ms/step - loss: 0.2349 - accuracy: 0.9228 - val_loss: 0.2009 - val_accuracy: 0.9357 - lr: 0.0010\n",
      "Epoch 5/50\n",
      "581/581 [==============================] - 3s 5ms/step - loss: 0.1980 - accuracy: 0.9347 - val_loss: 0.1818 - val_accuracy: 0.9425 - lr: 0.0010\n",
      "Epoch 6/50\n",
      "581/581 [==============================] - 3s 5ms/step - loss: 0.1751 - accuracy: 0.9392 - val_loss: 0.1607 - val_accuracy: 0.9498 - lr: 0.0010\n",
      "Epoch 7/50\n",
      "581/581 [==============================] - 3s 6ms/step - loss: 0.1560 - accuracy: 0.9457 - val_loss: 0.1587 - val_accuracy: 0.9508 - lr: 0.0010\n",
      "Epoch 8/50\n",
      "581/581 [==============================] - 3s 5ms/step - loss: 0.1461 - accuracy: 0.9493 - val_loss: 0.1754 - val_accuracy: 0.9474 - lr: 0.0010\n",
      "Epoch 9/50\n",
      "581/581 [==============================] - 3s 5ms/step - loss: 0.1366 - accuracy: 0.9524 - val_loss: 0.1487 - val_accuracy: 0.9513 - lr: 0.0010\n",
      "Epoch 10/50\n",
      "581/581 [==============================] - 3s 5ms/step - loss: 0.1209 - accuracy: 0.9537 - val_loss: 0.1509 - val_accuracy: 0.9479 - lr: 0.0010\n",
      "Epoch 11/50\n",
      "581/581 [==============================] - 3s 5ms/step - loss: 0.1211 - accuracy: 0.9548 - val_loss: 0.1378 - val_accuracy: 0.9596 - lr: 0.0010\n",
      "Epoch 12/50\n",
      "581/581 [==============================] - 3s 5ms/step - loss: 0.1073 - accuracy: 0.9604 - val_loss: 0.1390 - val_accuracy: 0.9547 - lr: 0.0010\n",
      "Epoch 13/50\n",
      "570/581 [============================>.] - ETA: 0s - loss: 0.1031 - accuracy: 0.9633\n",
      "Epoch 13: ReduceLROnPlateau reducing learning rate to 0.0003000000142492354.\n",
      "581/581 [==============================] - 3s 5ms/step - loss: 0.1029 - accuracy: 0.9632 - val_loss: 0.1456 - val_accuracy: 0.9552 - lr: 0.0010\n",
      "Epoch 14/50\n",
      "581/581 [==============================] - 3s 5ms/step - loss: 0.0764 - accuracy: 0.9715 - val_loss: 0.1307 - val_accuracy: 0.9644 - lr: 3.0000e-04\n",
      "Epoch 15/50\n",
      "581/581 [==============================] - 3s 5ms/step - loss: 0.0691 - accuracy: 0.9736 - val_loss: 0.1265 - val_accuracy: 0.9596 - lr: 3.0000e-04\n",
      "Epoch 16/50\n",
      "570/581 [============================>.] - ETA: 0s - loss: 0.0641 - accuracy: 0.9758\n",
      "Epoch 16: ReduceLROnPlateau reducing learning rate to 9.000000427477062e-05.\n",
      "581/581 [==============================] - 3s 5ms/step - loss: 0.0638 - accuracy: 0.9758 - val_loss: 0.1292 - val_accuracy: 0.9615 - lr: 3.0000e-04\n",
      "Epoch 17/50\n",
      "581/581 [==============================] - 3s 5ms/step - loss: 0.0610 - accuracy: 0.9767 - val_loss: 0.1215 - val_accuracy: 0.9630 - lr: 9.0000e-05\n",
      "Epoch 18/50\n",
      "581/581 [==============================] - ETA: 0s - loss: 0.0564 - accuracy: 0.9773\n",
      "Epoch 18: ReduceLROnPlateau reducing learning rate to 2.700000040931627e-05.\n",
      "581/581 [==============================] - 3s 6ms/step - loss: 0.0564 - accuracy: 0.9773 - val_loss: 0.1245 - val_accuracy: 0.9625 - lr: 9.0000e-05\n",
      "Epoch 19/50\n",
      "581/581 [==============================] - 3s 5ms/step - loss: 0.0533 - accuracy: 0.9794 - val_loss: 0.1248 - val_accuracy: 0.9635 - lr: 2.7000e-05\n",
      "Epoch 20/50\n",
      "581/581 [==============================] - ETA: 0s - loss: 0.0532 - accuracy: 0.9784\n",
      "Epoch 20: ReduceLROnPlateau reducing learning rate to 8.100000013655517e-06.\n",
      "581/581 [==============================] - 3s 5ms/step - loss: 0.0532 - accuracy: 0.9784 - val_loss: 0.1255 - val_accuracy: 0.9620 - lr: 2.7000e-05\n",
      "Epoch 21/50\n",
      "581/581 [==============================] - 3s 5ms/step - loss: 0.0524 - accuracy: 0.9795 - val_loss: 0.1249 - val_accuracy: 0.9630 - lr: 8.1000e-06\n",
      "Epoch 22/50\n",
      "581/581 [==============================] - ETA: 0s - loss: 0.0535 - accuracy: 0.9790\n",
      "Epoch 22: ReduceLROnPlateau reducing learning rate to 2.429999949526973e-06.\n",
      "581/581 [==============================] - 3s 5ms/step - loss: 0.0535 - accuracy: 0.9790 - val_loss: 0.1243 - val_accuracy: 0.9630 - lr: 8.1000e-06\n",
      "Epoch 23/50\n",
      "581/581 [==============================] - 3s 5ms/step - loss: 0.0509 - accuracy: 0.9801 - val_loss: 0.1244 - val_accuracy: 0.9630 - lr: 2.4300e-06\n",
      "Epoch 24/50\n",
      "574/581 [============================>.] - ETA: 0s - loss: 0.0512 - accuracy: 0.9807\n",
      "Epoch 24: ReduceLROnPlateau reducing learning rate to 1e-06.\n",
      "581/581 [==============================] - 3s 5ms/step - loss: 0.0508 - accuracy: 0.9809 - val_loss: 0.1243 - val_accuracy: 0.9630 - lr: 2.4300e-06\n",
      "Epoch 25/50\n",
      "581/581 [==============================] - 3s 5ms/step - loss: 0.0503 - accuracy: 0.9804 - val_loss: 0.1243 - val_accuracy: 0.9630 - lr: 1.0000e-06\n",
      "Epoch 26/50\n",
      "581/581 [==============================] - 3s 5ms/step - loss: 0.0505 - accuracy: 0.9805 - val_loss: 0.1243 - val_accuracy: 0.9630 - lr: 1.0000e-06\n",
      "Epoch 27/50\n",
      "581/581 [==============================] - 3s 5ms/step - loss: 0.0503 - accuracy: 0.9803 - val_loss: 0.1243 - val_accuracy: 0.9630 - lr: 1.0000e-06\n",
      "Epoch 28/50\n",
      "581/581 [==============================] - 3s 5ms/step - loss: 0.0491 - accuracy: 0.9796 - val_loss: 0.1243 - val_accuracy: 0.9630 - lr: 1.0000e-06\n",
      "Epoch 29/50\n",
      "581/581 [==============================] - 3s 5ms/step - loss: 0.0519 - accuracy: 0.9786 - val_loss: 0.1243 - val_accuracy: 0.9630 - lr: 1.0000e-06\n",
      "Epoch 30/50\n",
      "581/581 [==============================] - 3s 5ms/step - loss: 0.0524 - accuracy: 0.9791 - val_loss: 0.1243 - val_accuracy: 0.9635 - lr: 1.0000e-06\n",
      "Epoch 31/50\n",
      "581/581 [==============================] - 3s 5ms/step - loss: 0.0502 - accuracy: 0.9799 - val_loss: 0.1243 - val_accuracy: 0.9635 - lr: 1.0000e-06\n",
      "Epoch 32/50\n",
      "581/581 [==============================] - 3s 5ms/step - loss: 0.0516 - accuracy: 0.9787 - val_loss: 0.1243 - val_accuracy: 0.9635 - lr: 1.0000e-06\n",
      "Epoch 33/50\n",
      "581/581 [==============================] - 3s 5ms/step - loss: 0.0507 - accuracy: 0.9795 - val_loss: 0.1244 - val_accuracy: 0.9635 - lr: 1.0000e-06\n",
      "Epoch 34/50\n",
      "581/581 [==============================] - 3s 5ms/step - loss: 0.0518 - accuracy: 0.9790 - val_loss: 0.1243 - val_accuracy: 0.9635 - lr: 1.0000e-06\n",
      "Epoch 35/50\n",
      "581/581 [==============================] - 3s 5ms/step - loss: 0.0535 - accuracy: 0.9790 - val_loss: 0.1243 - val_accuracy: 0.9635 - lr: 1.0000e-06\n",
      "Epoch 36/50\n",
      "581/581 [==============================] - 3s 5ms/step - loss: 0.0506 - accuracy: 0.9791 - val_loss: 0.1243 - val_accuracy: 0.9635 - lr: 1.0000e-06\n",
      "Epoch 37/50\n",
      "581/581 [==============================] - 3s 5ms/step - loss: 0.0541 - accuracy: 0.9780 - val_loss: 0.1243 - val_accuracy: 0.9635 - lr: 1.0000e-06\n",
      "Epoch 38/50\n",
      "581/581 [==============================] - 3s 5ms/step - loss: 0.0500 - accuracy: 0.9807 - val_loss: 0.1243 - val_accuracy: 0.9635 - lr: 1.0000e-06\n",
      "Epoch 39/50\n",
      "581/581 [==============================] - 3s 6ms/step - loss: 0.0483 - accuracy: 0.9806 - val_loss: 0.1244 - val_accuracy: 0.9635 - lr: 1.0000e-06\n",
      "Epoch 40/50\n",
      "581/581 [==============================] - 3s 5ms/step - loss: 0.0510 - accuracy: 0.9797 - val_loss: 0.1243 - val_accuracy: 0.9635 - lr: 1.0000e-06\n",
      "Epoch 41/50\n",
      "581/581 [==============================] - 3s 5ms/step - loss: 0.0496 - accuracy: 0.9801 - val_loss: 0.1244 - val_accuracy: 0.9635 - lr: 1.0000e-06\n",
      "Epoch 42/50\n",
      "581/581 [==============================] - 3s 5ms/step - loss: 0.0533 - accuracy: 0.9778 - val_loss: 0.1244 - val_accuracy: 0.9635 - lr: 1.0000e-06\n",
      "Epoch 43/50\n",
      "581/581 [==============================] - 3s 5ms/step - loss: 0.0489 - accuracy: 0.9805 - val_loss: 0.1244 - val_accuracy: 0.9635 - lr: 1.0000e-06\n",
      "Epoch 44/50\n",
      "581/581 [==============================] - 3s 5ms/step - loss: 0.0518 - accuracy: 0.9795 - val_loss: 0.1243 - val_accuracy: 0.9635 - lr: 1.0000e-06\n",
      "Epoch 45/50\n",
      "581/581 [==============================] - 3s 5ms/step - loss: 0.0513 - accuracy: 0.9792 - val_loss: 0.1243 - val_accuracy: 0.9635 - lr: 1.0000e-06\n",
      "Epoch 46/50\n",
      "581/581 [==============================] - 3s 5ms/step - loss: 0.0523 - accuracy: 0.9792 - val_loss: 0.1243 - val_accuracy: 0.9635 - lr: 1.0000e-06\n",
      "Epoch 47/50\n",
      "581/581 [==============================] - 3s 5ms/step - loss: 0.0501 - accuracy: 0.9788 - val_loss: 0.1243 - val_accuracy: 0.9635 - lr: 1.0000e-06\n",
      "Epoch 48/50\n",
      "581/581 [==============================] - 3s 5ms/step - loss: 0.0511 - accuracy: 0.9807 - val_loss: 0.1243 - val_accuracy: 0.9635 - lr: 1.0000e-06\n",
      "Epoch 49/50\n",
      "581/581 [==============================] - 3s 5ms/step - loss: 0.0505 - accuracy: 0.9801 - val_loss: 0.1244 - val_accuracy: 0.9635 - lr: 1.0000e-06\n",
      "Epoch 50/50\n",
      "581/581 [==============================] - 4s 6ms/step - loss: 0.0482 - accuracy: 0.9805 - val_loss: 0.1244 - val_accuracy: 0.9635 - lr: 1.0000e-06\n"
     ]
    }
   ],
   "source": [
    "#Fitting/Training the model for 50 epochs\n",
    "history = model.fit(train_X,train_Y, epochs=50, batch_size=32, validation_data = (val_X, val_Y),  verbose=1, callbacks=[learning_rate_reduction])"
   ]
  },
  {
   "cell_type": "code",
   "execution_count": 21,
   "id": "dc1fab29",
   "metadata": {
    "execution": {
     "iopub.execute_input": "2023-04-04T21:43:31.365617Z",
     "iopub.status.busy": "2023-04-04T21:43:31.364924Z",
     "iopub.status.idle": "2023-04-04T21:43:31.415390Z",
     "shell.execute_reply": "2023-04-04T21:43:31.414428Z"
    },
    "papermill": {
     "duration": 0.197147,
     "end_time": "2023-04-04T21:43:31.417553",
     "exception": false,
     "start_time": "2023-04-04T21:43:31.220406",
     "status": "completed"
    },
    "tags": []
   },
   "outputs": [],
   "source": [
    "#Saving the model\n",
    "model.save('ocr-model.h5')"
   ]
  },
  {
   "cell_type": "code",
   "execution_count": 22,
   "id": "64293abd",
   "metadata": {
    "execution": {
     "iopub.execute_input": "2023-04-04T21:43:31.762170Z",
     "iopub.status.busy": "2023-04-04T21:43:31.761028Z",
     "iopub.status.idle": "2023-04-04T21:43:31.767984Z",
     "shell.execute_reply": "2023-04-04T21:43:31.766684Z"
    },
    "papermill": {
     "duration": 0.154385,
     "end_time": "2023-04-04T21:43:31.769915",
     "exception": false,
     "start_time": "2023-04-04T21:43:31.615530",
     "status": "completed"
    },
    "tags": []
   },
   "outputs": [
    {
     "name": "stdout",
     "output_type": "stream",
     "text": [
      "Training accuracy:  0.980458676815033\n",
      "Validation accuracy:  0.9634503126144409\n"
     ]
    }
   ],
   "source": [
    "#Print training and validation accuracy\n",
    "print('Training accuracy: ', history.history['accuracy'][-1])\n",
    "print('Validation accuracy: ', history.history['val_accuracy'][-1])"
   ]
  },
  {
   "cell_type": "code",
   "execution_count": 23,
   "id": "92c0acc4",
   "metadata": {
    "execution": {
     "iopub.execute_input": "2023-04-04T21:43:32.058721Z",
     "iopub.status.busy": "2023-04-04T21:43:32.057724Z",
     "iopub.status.idle": "2023-04-04T21:43:32.290916Z",
     "shell.execute_reply": "2023-04-04T21:43:32.289816Z"
    },
    "id": "A8hT_de9iwll",
    "outputId": "c2a70e61-a8c3-464d-b312-9aefe125ffd0",
    "papermill": {
     "duration": 0.38063,
     "end_time": "2023-04-04T21:43:32.293293",
     "exception": false,
     "start_time": "2023-04-04T21:43:31.912663",
     "status": "completed"
    },
    "tags": []
   },
   "outputs": [
    {
     "data": {
      "image/png": "[encoded data removed]",
      "text/plain": [
       "<Figure size 640x480 with 1 Axes>"
      ]
     },
     "metadata": {},
     "output_type": "display_data"
    }
   ],
   "source": [
    "#Plotting the training and validation accuracy\n",
    "plt.plot(history.history['accuracy'])\n",
    "plt.plot(history.history['val_accuracy'])\n",
    "plt.title('Training Accuracy vs Validation Accuracy')\n",
    "plt.ylabel('Accuracy')\n",
    "plt.xlabel('Epoch')\n",
    "plt.legend(['Train', 'Validation'], loc='upper left')\n",
    "plt.show()"
   ]
  },
  {
   "cell_type": "code",
   "execution_count": 24,
   "id": "4bf32ee5",
   "metadata": {
    "execution": {
     "iopub.execute_input": "2023-04-04T21:43:32.584076Z",
     "iopub.status.busy": "2023-04-04T21:43:32.583710Z",
     "iopub.status.idle": "2023-04-04T21:43:32.790828Z",
     "shell.execute_reply": "2023-04-04T21:43:32.789799Z"
    },
    "id": "DrDVHWftiwlm",
    "outputId": "6568d740-e699-409f-f7f1-ac28ad4c975c",
    "papermill": {
     "duration": 0.354918,
     "end_time": "2023-04-04T21:43:32.792860",
     "exception": false,
     "start_time": "2023-04-04T21:43:32.437942",
     "status": "completed"
    },
    "tags": []
   },
   "outputs": [
    {
     "data": {
      "image/png": "[encoded data removed]",
      "text/plain": [
       "<Figure size 640x480 with 1 Axes>"
      ]
     },
     "metadata": {},
     "output_type": "display_data"
    }
   ],
   "source": [
    "#Plotting the training and validation loss\n",
    "plt.plot(history.history['loss'])\n",
    "plt.plot(history.history['val_loss'])\n",
    "plt.title('Training Loss vs Validation Loss')\n",
    "plt.ylabel('Loss')\n",
    "plt.xlabel('Epoch')\n",
    "plt.legend(['Train', 'Validation'], loc='upper left')\n",
    "plt.show()"
   ]
  },
  {
   "cell_type": "code",
   "execution_count": 25,
   "id": "0c1115cb",
   "metadata": {
    "execution": {
     "iopub.execute_input": "2023-04-04T21:43:33.084901Z",
     "iopub.status.busy": "2023-04-04T21:43:33.083845Z",
     "iopub.status.idle": "2023-04-04T21:43:33.302367Z",
     "shell.execute_reply": "2023-04-04T21:43:33.301369Z"
    },
    "papermill": {
     "duration": 0.367133,
     "end_time": "2023-04-04T21:43:33.304694",
     "exception": false,
     "start_time": "2023-04-04T21:43:32.937561",
     "status": "completed"
    },
    "tags": []
   },
   "outputs": [
    {
     "name": "stdout",
     "output_type": "stream",
     "text": [
      "32/32 [==============================] - 0s 3ms/step - loss: 0.0342 - accuracy: 0.9881\n",
      "Loss of the model is -  0.03418350964784622\n",
      "Accuracy of the model is -  0.988095223903656\n"
     ]
    }
   ],
   "source": [
    "#Predicting the test data\n",
    "test_eval = model.evaluate(test_X, test_Y)\n",
    "print(\"Loss of the model is - \" , test_eval[0])\n",
    "print(\"Accuracy of the model is - \" , test_eval[1])\n"
   ]
  }
 ],
 "metadata": {
  "kernelspec": {
   "display_name": "Python 3",
   "language": "python",
   "name": "python3"
  },
  "language_info": {
   "codemirror_mode": {
    "name": "ipython",
    "version": 3
   },
   "file_extension": ".py",
   "mimetype": "text/x-python",
   "name": "python",
   "nbconvert_exporter": "python",
   "pygments_lexer": "ipython3",
   "version": "3.7.12"
  },
  "papermill": {
   "default_parameters": {},
   "duration": 318.930272,
   "end_time": "2023-04-04T21:43:36.728244",
   "environment_variables": {},
   "exception": null,
   "input_path": "__notebook__.ipynb",
   "output_path": "__notebook__.ipynb",
   "parameters": {},
   "start_time": "2023-04-04T21:38:17.797972",
   "version": "2.4.0"
  }
 },
 "nbformat": 4,
 "nbformat_minor": 5
}
